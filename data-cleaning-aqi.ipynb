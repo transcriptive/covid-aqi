{
 "cells": [
  {
   "cell_type": "code",
   "execution_count": 70,
   "id": "6c90c7ef-86b0-4e0d-bf10-da612763aa79",
   "metadata": {},
   "outputs": [],
   "source": [
    "import pandas as pd\n",
    "import matplotlib.pyplot as plt\n",
    "import numpy as np"
   ]
  },
  {
   "cell_type": "code",
   "execution_count": 45,
   "id": "7c98491f-2f97-4eb0-96c9-1f82f06a8e4d",
   "metadata": {},
   "outputs": [],
   "source": [
    "aqi_2019 = pd.read_csv ('datasets/air-quality-reports/2019/los-angeles-county-aqidaily2019.csv')"
   ]
  },
  {
   "cell_type": "code",
   "execution_count": 3,
   "id": "0010f90d-f826-4bf7-9d0b-11efc2d2f615",
   "metadata": {},
   "outputs": [],
   "source": [
    "aqi_2020 = pd.read_csv('datasets/air-quality-reports/2020/los-angeles-county-aqidaily2020.csv')"
   ]
  },
  {
   "cell_type": "code",
   "execution_count": 46,
   "id": "87d33a4a-b8a5-477a-816d-e392d0870a19",
   "metadata": {},
   "outputs": [
    {
     "data": {
      "text/html": [
       "<div>\n",
       "<style scoped>\n",
       "    .dataframe tbody tr th:only-of-type {\n",
       "        vertical-align: middle;\n",
       "    }\n",
       "\n",
       "    .dataframe tbody tr th {\n",
       "        vertical-align: top;\n",
       "    }\n",
       "\n",
       "    .dataframe thead th {\n",
       "        text-align: right;\n",
       "    }\n",
       "</style>\n",
       "<table border=\"1\" class=\"dataframe\">\n",
       "  <thead>\n",
       "    <tr style=\"text-align: right;\">\n",
       "      <th></th>\n",
       "      <th>Date</th>\n",
       "      <th>Overall AQI Value</th>\n",
       "      <th>Main Pollutant</th>\n",
       "      <th>Site Name (of Overall AQI)</th>\n",
       "      <th>Site ID (of Overall AQI)</th>\n",
       "      <th>Source (of Overall AQI)</th>\n",
       "      <th>CO</th>\n",
       "      <th>Ozone</th>\n",
       "      <th>SO2</th>\n",
       "      <th>PM10</th>\n",
       "      <th>PM25</th>\n",
       "      <th>NO2</th>\n",
       "    </tr>\n",
       "  </thead>\n",
       "  <tbody>\n",
       "    <tr>\n",
       "      <th>0</th>\n",
       "      <td>01/01/2019</td>\n",
       "      <td>67</td>\n",
       "      <td>PM2.5</td>\n",
       "      <td>Los Angeles-North Main Street</td>\n",
       "      <td>06-037-1103</td>\n",
       "      <td>AQS</td>\n",
       "      <td>19</td>\n",
       "      <td>37</td>\n",
       "      <td>3</td>\n",
       "      <td>6</td>\n",
       "      <td>67</td>\n",
       "      <td>37</td>\n",
       "    </tr>\n",
       "    <tr>\n",
       "      <th>1</th>\n",
       "      <td>01/02/2019</td>\n",
       "      <td>93</td>\n",
       "      <td>PM2.5</td>\n",
       "      <td>Long Beach-Route 710 Near Road</td>\n",
       "      <td>06-037-4008</td>\n",
       "      <td>AQS</td>\n",
       "      <td>23</td>\n",
       "      <td>36</td>\n",
       "      <td>3</td>\n",
       "      <td>15</td>\n",
       "      <td>93</td>\n",
       "      <td>68</td>\n",
       "    </tr>\n",
       "    <tr>\n",
       "      <th>2</th>\n",
       "      <td>01/03/2019</td>\n",
       "      <td>67</td>\n",
       "      <td>PM2.5</td>\n",
       "      <td>Long Beach-Route 710 Near Road</td>\n",
       "      <td>06-037-4008</td>\n",
       "      <td>AQS</td>\n",
       "      <td>19</td>\n",
       "      <td>33</td>\n",
       "      <td>6</td>\n",
       "      <td>44</td>\n",
       "      <td>67</td>\n",
       "      <td>64</td>\n",
       "    </tr>\n",
       "    <tr>\n",
       "      <th>3</th>\n",
       "      <td>01/04/2019</td>\n",
       "      <td>85</td>\n",
       "      <td>PM2.5</td>\n",
       "      <td>Long Beach-Route 710 Near Road</td>\n",
       "      <td>06-037-4008</td>\n",
       "      <td>AQS</td>\n",
       "      <td>20</td>\n",
       "      <td>26</td>\n",
       "      <td>4</td>\n",
       "      <td>25</td>\n",
       "      <td>85</td>\n",
       "      <td>61</td>\n",
       "    </tr>\n",
       "    <tr>\n",
       "      <th>4</th>\n",
       "      <td>01/05/2019</td>\n",
       "      <td>83</td>\n",
       "      <td>PM2.5</td>\n",
       "      <td>Long Beach-Route 710 Near Road</td>\n",
       "      <td>06-037-4008</td>\n",
       "      <td>AQS</td>\n",
       "      <td>23</td>\n",
       "      <td>35</td>\n",
       "      <td>1</td>\n",
       "      <td>17</td>\n",
       "      <td>83</td>\n",
       "      <td>44</td>\n",
       "    </tr>\n",
       "  </tbody>\n",
       "</table>\n",
       "</div>"
      ],
      "text/plain": [
       "         Date  Overall AQI Value Main Pollutant  \\\n",
       "0  01/01/2019                 67          PM2.5   \n",
       "1  01/02/2019                 93          PM2.5   \n",
       "2  01/03/2019                 67          PM2.5   \n",
       "3  01/04/2019                 85          PM2.5   \n",
       "4  01/05/2019                 83          PM2.5   \n",
       "\n",
       "       Site Name (of Overall AQI) Site ID (of Overall AQI)  \\\n",
       "0   Los Angeles-North Main Street              06-037-1103   \n",
       "1  Long Beach-Route 710 Near Road              06-037-4008   \n",
       "2  Long Beach-Route 710 Near Road              06-037-4008   \n",
       "3  Long Beach-Route 710 Near Road              06-037-4008   \n",
       "4  Long Beach-Route 710 Near Road              06-037-4008   \n",
       "\n",
       "  Source (of Overall AQI)  CO  Ozone  SO2 PM10  PM25  NO2  \n",
       "0                     AQS  19     37    3    6    67   37  \n",
       "1                     AQS  23     36    3   15    93   68  \n",
       "2                     AQS  19     33    6   44    67   64  \n",
       "3                     AQS  20     26    4   25    85   61  \n",
       "4                     AQS  23     35    1   17    83   44  "
      ]
     },
     "execution_count": 46,
     "metadata": {},
     "output_type": "execute_result"
    }
   ],
   "source": [
    "aqi_2019.head()"
   ]
  },
  {
   "cell_type": "code",
   "execution_count": 31,
   "id": "2ebde06f-d316-4202-aded-36f3207bb82e",
   "metadata": {},
   "outputs": [
    {
     "data": {
      "text/plain": [
       "'2019-01-03'"
      ]
     },
     "execution_count": 31,
     "metadata": {},
     "output_type": "execute_result"
    }
   ],
   "source": [
    "'-'.join([aqi_2019['Date'][2].split('/')[2], aqi_2019['Date'][2].split('/')[0], aqi_2019['Date'][2].split('/')[1]])"
   ]
  },
  {
   "cell_type": "code",
   "execution_count": null,
   "id": "0c7f53ee-b674-415b-a335-16f14538bf6b",
   "metadata": {},
   "outputs": [],
   "source": []
  },
  {
   "cell_type": "code",
   "execution_count": null,
   "id": "c9e38151-15a9-4e3b-882c-2eef72070b21",
   "metadata": {},
   "outputs": [],
   "source": []
  },
  {
   "cell_type": "code",
   "execution_count": 47,
   "id": "7778ff8e-ea48-40a9-9681-c8161acefee9",
   "metadata": {},
   "outputs": [
    {
     "name": "stderr",
     "output_type": "stream",
     "text": [
      "/Users/juliana/miniforge3/envs/tensorflow/lib/python3.8/site-packages/pandas/core/indexing.py:1637: SettingWithCopyWarning: \n",
      "A value is trying to be set on a copy of a slice from a DataFrame\n",
      "\n",
      "See the caveats in the documentation: https://pandas.pydata.org/pandas-docs/stable/user_guide/indexing.html#returning-a-view-versus-a-copy\n",
      "  self._setitem_single_block(indexer, value, name)\n"
     ]
    }
   ],
   "source": [
    "for i in range(0, aqi_2019.shape[0]):\n",
    "    aqi_2019['Date'].iloc[i] = '-'.join([aqi_2019['Date'][i].split('/')[2], aqi_2019['Date'][i].split('/')[0], aqi_2019['Date'][i].split('/')[1]])"
   ]
  },
  {
   "cell_type": "code",
   "execution_count": 48,
   "id": "f8f19e62-0227-450c-af74-8191cbc58f33",
   "metadata": {},
   "outputs": [
    {
     "data": {
      "text/html": [
       "<div>\n",
       "<style scoped>\n",
       "    .dataframe tbody tr th:only-of-type {\n",
       "        vertical-align: middle;\n",
       "    }\n",
       "\n",
       "    .dataframe tbody tr th {\n",
       "        vertical-align: top;\n",
       "    }\n",
       "\n",
       "    .dataframe thead th {\n",
       "        text-align: right;\n",
       "    }\n",
       "</style>\n",
       "<table border=\"1\" class=\"dataframe\">\n",
       "  <thead>\n",
       "    <tr style=\"text-align: right;\">\n",
       "      <th></th>\n",
       "      <th>Date</th>\n",
       "      <th>Overall AQI Value</th>\n",
       "      <th>Main Pollutant</th>\n",
       "      <th>Site Name (of Overall AQI)</th>\n",
       "      <th>Site ID (of Overall AQI)</th>\n",
       "      <th>Source (of Overall AQI)</th>\n",
       "      <th>CO</th>\n",
       "      <th>Ozone</th>\n",
       "      <th>SO2</th>\n",
       "      <th>PM10</th>\n",
       "      <th>PM25</th>\n",
       "      <th>NO2</th>\n",
       "    </tr>\n",
       "  </thead>\n",
       "  <tbody>\n",
       "    <tr>\n",
       "      <th>0</th>\n",
       "      <td>2019-01-01</td>\n",
       "      <td>67</td>\n",
       "      <td>PM2.5</td>\n",
       "      <td>Los Angeles-North Main Street</td>\n",
       "      <td>06-037-1103</td>\n",
       "      <td>AQS</td>\n",
       "      <td>19</td>\n",
       "      <td>37</td>\n",
       "      <td>3</td>\n",
       "      <td>6</td>\n",
       "      <td>67</td>\n",
       "      <td>37</td>\n",
       "    </tr>\n",
       "    <tr>\n",
       "      <th>1</th>\n",
       "      <td>2019-01-02</td>\n",
       "      <td>93</td>\n",
       "      <td>PM2.5</td>\n",
       "      <td>Long Beach-Route 710 Near Road</td>\n",
       "      <td>06-037-4008</td>\n",
       "      <td>AQS</td>\n",
       "      <td>23</td>\n",
       "      <td>36</td>\n",
       "      <td>3</td>\n",
       "      <td>15</td>\n",
       "      <td>93</td>\n",
       "      <td>68</td>\n",
       "    </tr>\n",
       "    <tr>\n",
       "      <th>2</th>\n",
       "      <td>2019-01-03</td>\n",
       "      <td>67</td>\n",
       "      <td>PM2.5</td>\n",
       "      <td>Long Beach-Route 710 Near Road</td>\n",
       "      <td>06-037-4008</td>\n",
       "      <td>AQS</td>\n",
       "      <td>19</td>\n",
       "      <td>33</td>\n",
       "      <td>6</td>\n",
       "      <td>44</td>\n",
       "      <td>67</td>\n",
       "      <td>64</td>\n",
       "    </tr>\n",
       "    <tr>\n",
       "      <th>3</th>\n",
       "      <td>2019-01-04</td>\n",
       "      <td>85</td>\n",
       "      <td>PM2.5</td>\n",
       "      <td>Long Beach-Route 710 Near Road</td>\n",
       "      <td>06-037-4008</td>\n",
       "      <td>AQS</td>\n",
       "      <td>20</td>\n",
       "      <td>26</td>\n",
       "      <td>4</td>\n",
       "      <td>25</td>\n",
       "      <td>85</td>\n",
       "      <td>61</td>\n",
       "    </tr>\n",
       "    <tr>\n",
       "      <th>4</th>\n",
       "      <td>2019-01-05</td>\n",
       "      <td>83</td>\n",
       "      <td>PM2.5</td>\n",
       "      <td>Long Beach-Route 710 Near Road</td>\n",
       "      <td>06-037-4008</td>\n",
       "      <td>AQS</td>\n",
       "      <td>23</td>\n",
       "      <td>35</td>\n",
       "      <td>1</td>\n",
       "      <td>17</td>\n",
       "      <td>83</td>\n",
       "      <td>44</td>\n",
       "    </tr>\n",
       "  </tbody>\n",
       "</table>\n",
       "</div>"
      ],
      "text/plain": [
       "         Date  Overall AQI Value Main Pollutant  \\\n",
       "0  2019-01-01                 67          PM2.5   \n",
       "1  2019-01-02                 93          PM2.5   \n",
       "2  2019-01-03                 67          PM2.5   \n",
       "3  2019-01-04                 85          PM2.5   \n",
       "4  2019-01-05                 83          PM2.5   \n",
       "\n",
       "       Site Name (of Overall AQI) Site ID (of Overall AQI)  \\\n",
       "0   Los Angeles-North Main Street              06-037-1103   \n",
       "1  Long Beach-Route 710 Near Road              06-037-4008   \n",
       "2  Long Beach-Route 710 Near Road              06-037-4008   \n",
       "3  Long Beach-Route 710 Near Road              06-037-4008   \n",
       "4  Long Beach-Route 710 Near Road              06-037-4008   \n",
       "\n",
       "  Source (of Overall AQI)  CO  Ozone  SO2 PM10  PM25  NO2  \n",
       "0                     AQS  19     37    3    6    67   37  \n",
       "1                     AQS  23     36    3   15    93   68  \n",
       "2                     AQS  19     33    6   44    67   64  \n",
       "3                     AQS  20     26    4   25    85   61  \n",
       "4                     AQS  23     35    1   17    83   44  "
      ]
     },
     "execution_count": 48,
     "metadata": {},
     "output_type": "execute_result"
    }
   ],
   "source": [
    "aqi_2019.head()"
   ]
  },
  {
   "cell_type": "code",
   "execution_count": 49,
   "id": "c5de4c4f-af65-470f-8b24-08d73ccd4f13",
   "metadata": {},
   "outputs": [],
   "source": [
    "aqi_2019.to_csv('datasets/air-quality-reports/2019/los-angeles-county-aqi2019-date-cleaned.csv')"
   ]
  },
  {
   "cell_type": "code",
   "execution_count": 50,
   "id": "0b1c64be-22ef-4453-a5b3-7358012e451c",
   "metadata": {},
   "outputs": [
    {
     "name": "stderr",
     "output_type": "stream",
     "text": [
      "/Users/juliana/miniforge3/envs/tensorflow/lib/python3.8/site-packages/pandas/core/indexing.py:1637: SettingWithCopyWarning: \n",
      "A value is trying to be set on a copy of a slice from a DataFrame\n",
      "\n",
      "See the caveats in the documentation: https://pandas.pydata.org/pandas-docs/stable/user_guide/indexing.html#returning-a-view-versus-a-copy\n",
      "  self._setitem_single_block(indexer, value, name)\n"
     ]
    }
   ],
   "source": [
    "for i in range(0, aqi_2019.shape[0]):\n",
    "    aqi_2020['Date'].iloc[i] = '-'.join([aqi_2020['Date'][i].split('/')[2], aqi_2020['Date'][i].split('/')[0], aqi_2020['Date'][i].split('/')[1]])"
   ]
  },
  {
   "cell_type": "code",
   "execution_count": 51,
   "id": "51b9afde-f6f0-4e15-bc85-9cd97e983450",
   "metadata": {},
   "outputs": [
    {
     "data": {
      "text/html": [
       "<div>\n",
       "<style scoped>\n",
       "    .dataframe tbody tr th:only-of-type {\n",
       "        vertical-align: middle;\n",
       "    }\n",
       "\n",
       "    .dataframe tbody tr th {\n",
       "        vertical-align: top;\n",
       "    }\n",
       "\n",
       "    .dataframe thead th {\n",
       "        text-align: right;\n",
       "    }\n",
       "</style>\n",
       "<table border=\"1\" class=\"dataframe\">\n",
       "  <thead>\n",
       "    <tr style=\"text-align: right;\">\n",
       "      <th></th>\n",
       "      <th>Date</th>\n",
       "      <th>Overall AQI Value</th>\n",
       "      <th>Main Pollutant</th>\n",
       "      <th>Site Name (of Overall AQI)</th>\n",
       "      <th>Site ID (of Overall AQI)</th>\n",
       "      <th>Source (of Overall AQI)</th>\n",
       "      <th>CO</th>\n",
       "      <th>Ozone</th>\n",
       "      <th>SO2</th>\n",
       "      <th>PM10</th>\n",
       "      <th>PM25</th>\n",
       "      <th>NO2</th>\n",
       "    </tr>\n",
       "  </thead>\n",
       "  <tbody>\n",
       "    <tr>\n",
       "      <th>0</th>\n",
       "      <td>2020-01-01</td>\n",
       "      <td>102</td>\n",
       "      <td>PM2.5</td>\n",
       "      <td>Long Beach-Route 710 Near Road</td>\n",
       "      <td>06-037-4008</td>\n",
       "      <td>AQS</td>\n",
       "      <td>14</td>\n",
       "      <td>38</td>\n",
       "      <td>1</td>\n",
       "      <td>11</td>\n",
       "      <td>102</td>\n",
       "      <td>30</td>\n",
       "    </tr>\n",
       "    <tr>\n",
       "      <th>1</th>\n",
       "      <td>2020-01-02</td>\n",
       "      <td>72</td>\n",
       "      <td>PM2.5</td>\n",
       "      <td>Compton</td>\n",
       "      <td>06-037-1302</td>\n",
       "      <td>AQS</td>\n",
       "      <td>15</td>\n",
       "      <td>36</td>\n",
       "      <td>3</td>\n",
       "      <td>17</td>\n",
       "      <td>72</td>\n",
       "      <td>46</td>\n",
       "    </tr>\n",
       "    <tr>\n",
       "      <th>2</th>\n",
       "      <td>2020-01-03</td>\n",
       "      <td>87</td>\n",
       "      <td>PM2.5</td>\n",
       "      <td>Long Beach-Route 710 Near Road</td>\n",
       "      <td>06-037-4008</td>\n",
       "      <td>AQS</td>\n",
       "      <td>22</td>\n",
       "      <td>33</td>\n",
       "      <td>1</td>\n",
       "      <td>22</td>\n",
       "      <td>87</td>\n",
       "      <td>53</td>\n",
       "    </tr>\n",
       "    <tr>\n",
       "      <th>3</th>\n",
       "      <td>2020-01-04</td>\n",
       "      <td>104</td>\n",
       "      <td>PM2.5</td>\n",
       "      <td>Compton</td>\n",
       "      <td>06-037-1302</td>\n",
       "      <td>AQS</td>\n",
       "      <td>35</td>\n",
       "      <td>35</td>\n",
       "      <td>1</td>\n",
       "      <td>40</td>\n",
       "      <td>104</td>\n",
       "      <td>46</td>\n",
       "    </tr>\n",
       "    <tr>\n",
       "      <th>4</th>\n",
       "      <td>2020-01-05</td>\n",
       "      <td>103</td>\n",
       "      <td>PM2.5</td>\n",
       "      <td>Compton</td>\n",
       "      <td>06-037-1302</td>\n",
       "      <td>AQS</td>\n",
       "      <td>25</td>\n",
       "      <td>40</td>\n",
       "      <td>0</td>\n",
       "      <td>14</td>\n",
       "      <td>103</td>\n",
       "      <td>43</td>\n",
       "    </tr>\n",
       "  </tbody>\n",
       "</table>\n",
       "</div>"
      ],
      "text/plain": [
       "         Date  Overall AQI Value Main Pollutant  \\\n",
       "0  2020-01-01                102          PM2.5   \n",
       "1  2020-01-02                 72          PM2.5   \n",
       "2  2020-01-03                 87          PM2.5   \n",
       "3  2020-01-04                104          PM2.5   \n",
       "4  2020-01-05                103          PM2.5   \n",
       "\n",
       "       Site Name (of Overall AQI) Site ID (of Overall AQI)  \\\n",
       "0  Long Beach-Route 710 Near Road              06-037-4008   \n",
       "1                         Compton              06-037-1302   \n",
       "2  Long Beach-Route 710 Near Road              06-037-4008   \n",
       "3                         Compton              06-037-1302   \n",
       "4                         Compton              06-037-1302   \n",
       "\n",
       "  Source (of Overall AQI)  CO  Ozone  SO2  PM10  PM25  NO2  \n",
       "0                     AQS  14     38    1    11   102   30  \n",
       "1                     AQS  15     36    3    17    72   46  \n",
       "2                     AQS  22     33    1    22    87   53  \n",
       "3                     AQS  35     35    1    40   104   46  \n",
       "4                     AQS  25     40    0    14   103   43  "
      ]
     },
     "execution_count": 51,
     "metadata": {},
     "output_type": "execute_result"
    }
   ],
   "source": [
    "aqi_2020.head()"
   ]
  },
  {
   "cell_type": "code",
   "execution_count": 52,
   "id": "68d7d854-838e-4aa8-8b97-f2915cf9bf95",
   "metadata": {},
   "outputs": [],
   "source": [
    "aqi_2020.to_csv('datasets/air-quality-reports/2020/los-angeles-county-aqi2020-date-cleaned.csv')"
   ]
  },
  {
   "cell_type": "code",
   "execution_count": 58,
   "id": "152c37bd-f78f-47f6-8761-f9102f614f4f",
   "metadata": {},
   "outputs": [
    {
     "data": {
      "text/plain": [
       "[<matplotlib.lines.Line2D at 0x13a15a8b0>]"
      ]
     },
     "execution_count": 58,
     "metadata": {},
     "output_type": "execute_result"
    },
    {
     "data": {
      "image/png": "[encoded data removed]",
      "text/plain": [
       "<Figure size 432x288 with 1 Axes>"
      ]
     },
     "metadata": {
      "needs_background": "light"
     },
     "output_type": "display_data"
    }
   ],
   "source": [
    "plt.plot(aqi_2019['Overall AQI Value']-aqi_2020['Overall AQI Value'])"
   ]
  },
  {
   "cell_type": "code",
   "execution_count": 62,
   "id": "60ce2b86-eac7-4b44-a135-f6e0c5bc305c",
   "metadata": {},
   "outputs": [
    {
     "data": {
      "text/plain": [
       "74.5"
      ]
     },
     "execution_count": 62,
     "metadata": {},
     "output_type": "execute_result"
    }
   ],
   "source": [
    "aqi_2019.iloc[0:6]['Overall AQI Value'].mean()"
   ]
  },
  {
   "cell_type": "code",
   "execution_count": 74,
   "id": "56b1c69f-cffe-4e4e-8a42-8e7b443dcbe0",
   "metadata": {},
   "outputs": [
    {
     "data": {
      "text/plain": [
       "[74.5,\n",
       " 68.66666666666667,\n",
       " 47.166666666666664,\n",
       " 69.16666666666667,\n",
       " 59.166666666666664,\n",
       " 52.0,\n",
       " 44.666666666666664,\n",
       " 54.5,\n",
       " 52.833333333333336,\n",
       " 47.5,\n",
       " 55.833333333333336,\n",
       " 52.0,\n",
       " 68.16666666666667,\n",
       " 52.833333333333336,\n",
       " 70.83333333333333,\n",
       " 68.83333333333333,\n",
       " 80.83333333333333,\n",
       " 76.16666666666667,\n",
       " 47.333333333333336,\n",
       " 61.0,\n",
       " 48.5,\n",
       " 69.16666666666667,\n",
       " 118.5,\n",
       " 115.66666666666667,\n",
       " 71.83333333333333,\n",
       " 101.5,\n",
       " 118.16666666666667,\n",
       " 149.5,\n",
       " 90.5,\n",
       " 150.16666666666666,\n",
       " 157.0,\n",
       " 113.16666666666667,\n",
       " 122.5,\n",
       " 138.33333333333334,\n",
       " 126.5,\n",
       " 85.16666666666667,\n",
       " 123.0,\n",
       " 81.0,\n",
       " 68.66666666666667,\n",
       " 116.66666666666667,\n",
       " 105.16666666666667,\n",
       " 73.66666666666667,\n",
       " 80.83333333333333,\n",
       " 70.66666666666667,\n",
       " 82.33333333333333,\n",
       " 82.5,\n",
       " 67.16666666666667,\n",
       " 70.83333333333333,\n",
       " 61.5,\n",
       " 72.66666666666667,\n",
       " 64.33333333333333,\n",
       " 62.5,\n",
       " 78.0]"
      ]
     },
     "execution_count": 74,
     "metadata": {},
     "output_type": "execute_result"
    }
   ],
   "source": [
    "weekly_average_2019 = []\n",
    "for i in range(0, 365, 7):\n",
    "    weekly_average_2019.append(aqi_2019.iloc[i:i+6]['Overall AQI Value'].mean())\n",
    "weekly_average_2019"
   ]
  },
  {
   "cell_type": "code",
   "execution_count": 68,
   "id": "abba9a13-4300-45d8-b16d-d902b60f4a73",
   "metadata": {},
   "outputs": [
    {
     "data": {
      "text/plain": [
       "[90.0,\n",
       " 68.33333333333333,\n",
       " 74.0,\n",
       " 81.83333333333333,\n",
       " 60.333333333333336,\n",
       " 62.0,\n",
       " 67.16666666666667,\n",
       " 64.66666666666667,\n",
       " 53.833333333333336,\n",
       " 54.333333333333336,\n",
       " 41.333333333333336,\n",
       " 45.0,\n",
       " 48.833333333333336,\n",
       " 50.166666666666664,\n",
       " 42.666666666666664,\n",
       " 52.5,\n",
       " 139.83333333333334,\n",
       " 108.83333333333333,\n",
       " 152.33333333333334,\n",
       " 73.33333333333333,\n",
       " 89.5,\n",
       " 90.33333333333333,\n",
       " 74.33333333333333,\n",
       " 105.16666666666667,\n",
       " 94.66666666666667,\n",
       " 99.83333333333333,\n",
       " 140.0,\n",
       " 154.33333333333334,\n",
       " 116.16666666666667,\n",
       " 112.5,\n",
       " 168.83333333333334,\n",
       " 92.5,\n",
       " 172.33333333333334,\n",
       " 158.0,\n",
       " 113.83333333333333,\n",
       " 196.83333333333334,\n",
       " 165.5,\n",
       " 135.66666666666666,\n",
       " 157.83333333333334,\n",
       " 179.16666666666666,\n",
       " 93.5,\n",
       " 153.66666666666666,\n",
       " 75.83333333333333,\n",
       " 89.33333333333333,\n",
       " 62.833333333333336,\n",
       " 74.66666666666667,\n",
       " 82.33333333333333,\n",
       " 75.83333333333333,\n",
       " 97.16666666666667,\n",
       " 71.83333333333333,\n",
       " 76.5,\n",
       " 78.5,\n",
       " 98.0]"
      ]
     },
     "execution_count": 68,
     "metadata": {},
     "output_type": "execute_result"
    }
   ],
   "source": [
    "weekly_average_2020= []\n",
    "for i in range(0, 365, 7):\n",
    "    weekly_average_2020.append(aqi_2020.iloc[i:i+6]['Overall AQI Value'].mean())\n",
    "weekly_average_2020"
   ]
  },
  {
   "cell_type": "code",
   "execution_count": 77,
   "id": "1bc975a3-8ec3-4d29-94b3-1a6721972e12",
   "metadata": {},
   "outputs": [
    {
     "data": {
      "text/plain": [
       "[<matplotlib.lines.Line2D at 0x13bbe1130>]"
      ]
     },
     "execution_count": 77,
     "metadata": {},
     "output_type": "execute_result"
    },
    {
     "data": {
      "image/png": "[encoded data removed]",
      "text/plain": [
       "<Figure size 432x288 with 1 Axes>"
      ]
     },
     "metadata": {
      "needs_background": "light"
     },
     "output_type": "display_data"
    }
   ],
   "source": [
    "plt.plot(np.array(weekly_average_2019)-np.array(weekly_average_2020))"
   ]
  },
  {
   "cell_type": "code",
   "execution_count": 69,
   "id": "466c963e-2160-404f-ada1-4561802db067",
   "metadata": {},
   "outputs": [
    {
     "ename": "TypeError",
     "evalue": "unsupported operand type(s) for -: 'list' and 'list'",
     "output_type": "error",
     "traceback": [
      "\u001b[0;31m---------------------------------------------------------------------------\u001b[0m",
      "\u001b[0;31mTypeError\u001b[0m                                 Traceback (most recent call last)",
      "\u001b[0;32m<ipython-input-69-bc05daed0c09>\u001b[0m in \u001b[0;36m<module>\u001b[0;34m\u001b[0m\n\u001b[0;32m----> 1\u001b[0;31m \u001b[0mplt\u001b[0m\u001b[0;34m.\u001b[0m\u001b[0mplot\u001b[0m\u001b[0;34m(\u001b[0m\u001b[0mweekly_average_2019\u001b[0m \u001b[0;34m-\u001b[0m \u001b[0mweekly_average_2020\u001b[0m\u001b[0;34m)\u001b[0m\u001b[0;34m\u001b[0m\u001b[0;34m\u001b[0m\u001b[0m\n\u001b[0m",
      "\u001b[0;31mTypeError\u001b[0m: unsupported operand type(s) for -: 'list' and 'list'"
     ]
    }
   ],
   "source": [
    "plt.plot(weekly_average_2019 - weekly_average_2020)"
   ]
  },
  {
   "cell_type": "code",
   "execution_count": null,
   "id": "d178b997-8d6b-49e7-a855-69692eb596ac",
   "metadata": {},
   "outputs": [],
   "source": []
  }
 ],
 "metadata": {
  "kernelspec": {
   "display_name": "Python 3",
   "language": "python",
   "name": "python3"
  },
  "language_info": {
   "codemirror_mode": {
    "name": "ipython",
    "version": 3
   },
   "file_extension": ".py",
   "mimetype": "text/x-python",
   "name": "python",
   "nbconvert_exporter": "python",
   "pygments_lexer": "ipython3",
   "version": "3.8.8"
  }
 },
 "nbformat": 4,
 "nbformat_minor": 5
}
