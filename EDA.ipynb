{
 "cells": [
  {
   "cell_type": "markdown",
   "id": "4f6b6b45-966c-44a8-aec6-e5e8df623d1b",
   "metadata": {},
   "source": [
    "# Exploratory Data Analysis"
   ]
  },
  {
   "cell_type": "code",
   "execution_count": 1,
   "id": "70612ecf-9882-4757-a1c0-7a19b6c82112",
   "metadata": {},
   "outputs": [],
   "source": [
    "import pandas as pd\n",
    "import numpy as np\n",
    "import matplotlib.pyplot as plt\n",
    "import seaborn as sns"
   ]
  },
  {
   "cell_type": "markdown",
   "id": "64cb1ffb-4fff-482b-8599-3b6136b3a84a",
   "metadata": {},
   "source": [
    "## Read in the Data"
   ]
  },
  {
   "cell_type": "code",
   "execution_count": 2,
   "id": "5ce0f4c9-78a5-4c10-8198-d76ee45b0a42",
   "metadata": {},
   "outputs": [],
   "source": [
    "lax_2019 = pd.read_csv('datasets/air-quality-reports/2019/los-angeles-county-aqi2019-date-cleaned.csv')\n",
    "lax_2020 = pd.read_csv('datasets/air-quality-reports/2020/los-angeles-county-aqi2020-date-cleaned.csv')"
   ]
  },
  {
   "cell_type": "code",
   "execution_count": 3,
   "id": "26492adb-79b5-4877-8de2-8dfa22156395",
   "metadata": {},
   "outputs": [],
   "source": [
    "traffic = pd.read_csv('datasets/traffic/la_data.csv')"
   ]
  },
  {
   "cell_type": "code",
   "execution_count": 4,
   "id": "86894111-08a6-4e5a-992e-3638fb115899",
   "metadata": {},
   "outputs": [
    {
     "data": {
      "text/html": [
       "<div>\n",
       "<style scoped>\n",
       "    .dataframe tbody tr th:only-of-type {\n",
       "        vertical-align: middle;\n",
       "    }\n",
       "\n",
       "    .dataframe tbody tr th {\n",
       "        vertical-align: top;\n",
       "    }\n",
       "\n",
       "    .dataframe thead th {\n",
       "        text-align: right;\n",
       "    }\n",
       "</style>\n",
       "<table border=\"1\" class=\"dataframe\">\n",
       "  <thead>\n",
       "    <tr style=\"text-align: right;\">\n",
       "      <th></th>\n",
       "      <th>Level</th>\n",
       "      <th>Date</th>\n",
       "      <th>State FIPS</th>\n",
       "      <th>State Postal Code</th>\n",
       "      <th>County FIPS</th>\n",
       "      <th>County Name</th>\n",
       "      <th>Population Staying at Home</th>\n",
       "      <th>Population Not Staying at Home</th>\n",
       "      <th>Number of Trips</th>\n",
       "      <th>Number of Trips &lt;1</th>\n",
       "      <th>Number of Trips 1-3</th>\n",
       "      <th>Number of Trips 3-5</th>\n",
       "      <th>Number of Trips 5-10</th>\n",
       "      <th>Number of Trips 10-25</th>\n",
       "      <th>Number of Trips 25-50</th>\n",
       "      <th>Number of Trips 50-100</th>\n",
       "      <th>Number of Trips 100-250</th>\n",
       "      <th>Number of Trips 250-500</th>\n",
       "      <th>Number of Trips &gt;=500</th>\n",
       "      <th>Row ID</th>\n",
       "    </tr>\n",
       "  </thead>\n",
       "  <tbody>\n",
       "    <tr>\n",
       "      <th>0</th>\n",
       "      <td>County</td>\n",
       "      <td>2019/01/01</td>\n",
       "      <td>6.0</td>\n",
       "      <td>CA</td>\n",
       "      <td>6037.0</td>\n",
       "      <td>Los Angeles County</td>\n",
       "      <td>2365053.0</td>\n",
       "      <td>7709577.0</td>\n",
       "      <td>27837706.0</td>\n",
       "      <td>8638986.0</td>\n",
       "      <td>6890475.0</td>\n",
       "      <td>3177404.0</td>\n",
       "      <td>3730800.0</td>\n",
       "      <td>3463369.0</td>\n",
       "      <td>1286744.0</td>\n",
       "      <td>408262.0</td>\n",
       "      <td>150096.0</td>\n",
       "      <td>43515.0</td>\n",
       "      <td>48055.0</td>\n",
       "      <td>06-06037-20190101</td>\n",
       "    </tr>\n",
       "    <tr>\n",
       "      <th>1</th>\n",
       "      <td>County</td>\n",
       "      <td>2019/01/02</td>\n",
       "      <td>6.0</td>\n",
       "      <td>CA</td>\n",
       "      <td>6037.0</td>\n",
       "      <td>Los Angeles County</td>\n",
       "      <td>1916798.0</td>\n",
       "      <td>8157832.0</td>\n",
       "      <td>34953192.0</td>\n",
       "      <td>10204647.0</td>\n",
       "      <td>8713256.0</td>\n",
       "      <td>4118795.0</td>\n",
       "      <td>5056970.0</td>\n",
       "      <td>4790407.0</td>\n",
       "      <td>1483851.0</td>\n",
       "      <td>377632.0</td>\n",
       "      <td>127165.0</td>\n",
       "      <td>41346.0</td>\n",
       "      <td>39123.0</td>\n",
       "      <td>06-06037-20190102</td>\n",
       "    </tr>\n",
       "    <tr>\n",
       "      <th>2</th>\n",
       "      <td>County</td>\n",
       "      <td>2019/01/03</td>\n",
       "      <td>6.0</td>\n",
       "      <td>CA</td>\n",
       "      <td>6037.0</td>\n",
       "      <td>Los Angeles County</td>\n",
       "      <td>1939199.0</td>\n",
       "      <td>8135431.0</td>\n",
       "      <td>35308770.0</td>\n",
       "      <td>10242324.0</td>\n",
       "      <td>8628446.0</td>\n",
       "      <td>4156116.0</td>\n",
       "      <td>5265467.0</td>\n",
       "      <td>4918977.0</td>\n",
       "      <td>1505304.0</td>\n",
       "      <td>384372.0</td>\n",
       "      <td>130608.0</td>\n",
       "      <td>39314.0</td>\n",
       "      <td>37842.0</td>\n",
       "      <td>06-06037-20190103</td>\n",
       "    </tr>\n",
       "    <tr>\n",
       "      <th>3</th>\n",
       "      <td>County</td>\n",
       "      <td>2019/01/04</td>\n",
       "      <td>6.0</td>\n",
       "      <td>CA</td>\n",
       "      <td>6037.0</td>\n",
       "      <td>Los Angeles County</td>\n",
       "      <td>1899517.0</td>\n",
       "      <td>8175113.0</td>\n",
       "      <td>35354896.0</td>\n",
       "      <td>9961960.0</td>\n",
       "      <td>8718755.0</td>\n",
       "      <td>4247070.0</td>\n",
       "      <td>5369022.0</td>\n",
       "      <td>4944403.0</td>\n",
       "      <td>1493297.0</td>\n",
       "      <td>400765.0</td>\n",
       "      <td>142891.0</td>\n",
       "      <td>40254.0</td>\n",
       "      <td>36479.0</td>\n",
       "      <td>06-06037-20190104</td>\n",
       "    </tr>\n",
       "    <tr>\n",
       "      <th>4</th>\n",
       "      <td>County</td>\n",
       "      <td>2019/01/05</td>\n",
       "      <td>6.0</td>\n",
       "      <td>CA</td>\n",
       "      <td>6037.0</td>\n",
       "      <td>Los Angeles County</td>\n",
       "      <td>1996844.0</td>\n",
       "      <td>8077786.0</td>\n",
       "      <td>35121500.0</td>\n",
       "      <td>10058558.0</td>\n",
       "      <td>8976550.0</td>\n",
       "      <td>4273998.0</td>\n",
       "      <td>5168011.0</td>\n",
       "      <td>4551821.0</td>\n",
       "      <td>1440573.0</td>\n",
       "      <td>428827.0</td>\n",
       "      <td>149329.0</td>\n",
       "      <td>39217.0</td>\n",
       "      <td>34616.0</td>\n",
       "      <td>06-06037-20190105</td>\n",
       "    </tr>\n",
       "  </tbody>\n",
       "</table>\n",
       "</div>"
      ],
      "text/plain": [
       "    Level        Date  State FIPS State Postal Code  County FIPS  \\\n",
       "0  County  2019/01/01         6.0                CA       6037.0   \n",
       "1  County  2019/01/02         6.0                CA       6037.0   \n",
       "2  County  2019/01/03         6.0                CA       6037.0   \n",
       "3  County  2019/01/04         6.0                CA       6037.0   \n",
       "4  County  2019/01/05         6.0                CA       6037.0   \n",
       "\n",
       "          County Name  Population Staying at Home  \\\n",
       "0  Los Angeles County                   2365053.0   \n",
       "1  Los Angeles County                   1916798.0   \n",
       "2  Los Angeles County                   1939199.0   \n",
       "3  Los Angeles County                   1899517.0   \n",
       "4  Los Angeles County                   1996844.0   \n",
       "\n",
       "   Population Not Staying at Home  Number of Trips  Number of Trips <1  \\\n",
       "0                       7709577.0       27837706.0           8638986.0   \n",
       "1                       8157832.0       34953192.0          10204647.0   \n",
       "2                       8135431.0       35308770.0          10242324.0   \n",
       "3                       8175113.0       35354896.0           9961960.0   \n",
       "4                       8077786.0       35121500.0          10058558.0   \n",
       "\n",
       "   Number of Trips 1-3  Number of Trips 3-5  Number of Trips 5-10  \\\n",
       "0            6890475.0            3177404.0             3730800.0   \n",
       "1            8713256.0            4118795.0             5056970.0   \n",
       "2            8628446.0            4156116.0             5265467.0   \n",
       "3            8718755.0            4247070.0             5369022.0   \n",
       "4            8976550.0            4273998.0             5168011.0   \n",
       "\n",
       "   Number of Trips 10-25  Number of Trips 25-50  Number of Trips 50-100  \\\n",
       "0              3463369.0              1286744.0                408262.0   \n",
       "1              4790407.0              1483851.0                377632.0   \n",
       "2              4918977.0              1505304.0                384372.0   \n",
       "3              4944403.0              1493297.0                400765.0   \n",
       "4              4551821.0              1440573.0                428827.0   \n",
       "\n",
       "   Number of Trips 100-250  Number of Trips 250-500  Number of Trips >=500  \\\n",
       "0                 150096.0                  43515.0                48055.0   \n",
       "1                 127165.0                  41346.0                39123.0   \n",
       "2                 130608.0                  39314.0                37842.0   \n",
       "3                 142891.0                  40254.0                36479.0   \n",
       "4                 149329.0                  39217.0                34616.0   \n",
       "\n",
       "              Row ID  \n",
       "0  06-06037-20190101  \n",
       "1  06-06037-20190102  \n",
       "2  06-06037-20190103  \n",
       "3  06-06037-20190104  \n",
       "4  06-06037-20190105  "
      ]
     },
     "execution_count": 4,
     "metadata": {},
     "output_type": "execute_result"
    }
   ],
   "source": [
    "traffic.head()"
   ]
  },
  {
   "cell_type": "markdown",
   "id": "83718351-a188-498e-9c92-bca71ad4901d",
   "metadata": {},
   "source": [
    "## Create weekly averages\n",
    "Note: this was before we had the time series lesson so these methods aren't preferred, and are only used for this notebooks. Other notebooks use preferred methods"
   ]
  },
  {
   "cell_type": "code",
   "execution_count": 7,
   "id": "66dc3f12-1e7c-47bd-98f3-d3ba264f4200",
   "metadata": {},
   "outputs": [],
   "source": [
    "weekly_average_2019 = []\n",
    "for i in range(0, 365, 7):\n",
    "    weekly_average_2019.append(lax_2019.iloc[i:i+6]['Overall AQI Value'].mean())"
   ]
  },
  {
   "cell_type": "code",
   "execution_count": 9,
   "id": "9004c080-4523-49b6-9ea8-e883218a235b",
   "metadata": {},
   "outputs": [],
   "source": [
    "weekly_average_2020= []\n",
    "for i in range(0, 365, 7):\n",
    "    weekly_average_2020.append(lax_2020.iloc[i:i+6]['Overall AQI Value'].mean())"
   ]
  },
  {
   "cell_type": "code",
   "execution_count": 10,
   "id": "402e41df-1dea-472b-be62-579accad3e03",
   "metadata": {},
   "outputs": [],
   "source": [
    "aqi_diff = np.array(weekly_average_2019)-np.array(weekly_average_2020)"
   ]
  },
  {
   "cell_type": "code",
   "execution_count": 28,
   "id": "1ea65e4c-5e89-44ec-b59b-fe49f24a3bec",
   "metadata": {},
   "outputs": [
    {
     "data": {
      "text/plain": [
       "(838, 20)"
      ]
     },
     "execution_count": 28,
     "metadata": {},
     "output_type": "execute_result"
    }
   ],
   "source": [
    "traffic.shape"
   ]
  },
  {
   "cell_type": "code",
   "execution_count": 37,
   "id": "1d9ea888-cae8-46c4-b7a4-015b46bb3894",
   "metadata": {},
   "outputs": [
    {
     "data": {
      "text/html": [
       "<div>\n",
       "<style scoped>\n",
       "    .dataframe tbody tr th:only-of-type {\n",
       "        vertical-align: middle;\n",
       "    }\n",
       "\n",
       "    .dataframe tbody tr th {\n",
       "        vertical-align: top;\n",
       "    }\n",
       "\n",
       "    .dataframe thead th {\n",
       "        text-align: right;\n",
       "    }\n",
       "</style>\n",
       "<table border=\"1\" class=\"dataframe\">\n",
       "  <thead>\n",
       "    <tr style=\"text-align: right;\">\n",
       "      <th></th>\n",
       "      <th>Level</th>\n",
       "      <th>Date</th>\n",
       "      <th>State FIPS</th>\n",
       "      <th>State Postal Code</th>\n",
       "      <th>County FIPS</th>\n",
       "      <th>County Name</th>\n",
       "      <th>Population Staying at Home</th>\n",
       "      <th>Population Not Staying at Home</th>\n",
       "      <th>Number of Trips</th>\n",
       "      <th>Number of Trips &lt;1</th>\n",
       "      <th>Number of Trips 1-3</th>\n",
       "      <th>Number of Trips 3-5</th>\n",
       "      <th>Number of Trips 5-10</th>\n",
       "      <th>Number of Trips 10-25</th>\n",
       "      <th>Number of Trips 25-50</th>\n",
       "      <th>Number of Trips 50-100</th>\n",
       "      <th>Number of Trips 100-250</th>\n",
       "      <th>Number of Trips 250-500</th>\n",
       "      <th>Number of Trips &gt;=500</th>\n",
       "      <th>Row ID</th>\n",
       "    </tr>\n",
       "  </thead>\n",
       "  <tbody>\n",
       "    <tr>\n",
       "      <th>365</th>\n",
       "      <td>County</td>\n",
       "      <td>2020/01/01</td>\n",
       "      <td>6.0</td>\n",
       "      <td>CA</td>\n",
       "      <td>6037.0</td>\n",
       "      <td>Los Angeles County</td>\n",
       "      <td>2332593.0</td>\n",
       "      <td>7772925.0</td>\n",
       "      <td>28408015.0</td>\n",
       "      <td>8012799.0</td>\n",
       "      <td>7171381.0</td>\n",
       "      <td>3303835.0</td>\n",
       "      <td>4100719.0</td>\n",
       "      <td>3878261.0</td>\n",
       "      <td>1256125.0</td>\n",
       "      <td>446348.0</td>\n",
       "      <td>188247.0</td>\n",
       "      <td>34288.0</td>\n",
       "      <td>16012.0</td>\n",
       "      <td>06-06037-20200101</td>\n",
       "    </tr>\n",
       "    <tr>\n",
       "      <th>366</th>\n",
       "      <td>County</td>\n",
       "      <td>2020/01/02</td>\n",
       "      <td>6.0</td>\n",
       "      <td>CA</td>\n",
       "      <td>6037.0</td>\n",
       "      <td>Los Angeles County</td>\n",
       "      <td>1881876.0</td>\n",
       "      <td>8223642.0</td>\n",
       "      <td>35574513.0</td>\n",
       "      <td>10073670.0</td>\n",
       "      <td>8817641.0</td>\n",
       "      <td>4265798.0</td>\n",
       "      <td>5293548.0</td>\n",
       "      <td>5070346.0</td>\n",
       "      <td>1476935.0</td>\n",
       "      <td>366553.0</td>\n",
       "      <td>164673.0</td>\n",
       "      <td>32817.0</td>\n",
       "      <td>12532.0</td>\n",
       "      <td>06-06037-20200102</td>\n",
       "    </tr>\n",
       "    <tr>\n",
       "      <th>367</th>\n",
       "      <td>County</td>\n",
       "      <td>2020/01/03</td>\n",
       "      <td>6.0</td>\n",
       "      <td>CA</td>\n",
       "      <td>6037.0</td>\n",
       "      <td>Los Angeles County</td>\n",
       "      <td>1857894.0</td>\n",
       "      <td>8247624.0</td>\n",
       "      <td>36690443.0</td>\n",
       "      <td>10271645.0</td>\n",
       "      <td>9186799.0</td>\n",
       "      <td>4416158.0</td>\n",
       "      <td>5527622.0</td>\n",
       "      <td>5208659.0</td>\n",
       "      <td>1489918.0</td>\n",
       "      <td>374902.0</td>\n",
       "      <td>166074.0</td>\n",
       "      <td>34326.0</td>\n",
       "      <td>14340.0</td>\n",
       "      <td>06-06037-20200103</td>\n",
       "    </tr>\n",
       "    <tr>\n",
       "      <th>368</th>\n",
       "      <td>County</td>\n",
       "      <td>2020/01/04</td>\n",
       "      <td>6.0</td>\n",
       "      <td>CA</td>\n",
       "      <td>6037.0</td>\n",
       "      <td>Los Angeles County</td>\n",
       "      <td>2032359.0</td>\n",
       "      <td>8073159.0</td>\n",
       "      <td>35376724.0</td>\n",
       "      <td>9922738.0</td>\n",
       "      <td>9090019.0</td>\n",
       "      <td>4319713.0</td>\n",
       "      <td>5236876.0</td>\n",
       "      <td>4743737.0</td>\n",
       "      <td>1398184.0</td>\n",
       "      <td>435070.0</td>\n",
       "      <td>183741.0</td>\n",
       "      <td>31454.0</td>\n",
       "      <td>15192.0</td>\n",
       "      <td>06-06037-20200104</td>\n",
       "    </tr>\n",
       "    <tr>\n",
       "      <th>369</th>\n",
       "      <td>County</td>\n",
       "      <td>2020/01/05</td>\n",
       "      <td>6.0</td>\n",
       "      <td>CA</td>\n",
       "      <td>6037.0</td>\n",
       "      <td>Los Angeles County</td>\n",
       "      <td>2213909.0</td>\n",
       "      <td>7891609.0</td>\n",
       "      <td>31971612.0</td>\n",
       "      <td>8951498.0</td>\n",
       "      <td>8437927.0</td>\n",
       "      <td>3907506.0</td>\n",
       "      <td>4708320.0</td>\n",
       "      <td>4111100.0</td>\n",
       "      <td>1220541.0</td>\n",
       "      <td>386756.0</td>\n",
       "      <td>193807.0</td>\n",
       "      <td>37640.0</td>\n",
       "      <td>16517.0</td>\n",
       "      <td>06-06037-20200105</td>\n",
       "    </tr>\n",
       "    <tr>\n",
       "      <th>...</th>\n",
       "      <td>...</td>\n",
       "      <td>...</td>\n",
       "      <td>...</td>\n",
       "      <td>...</td>\n",
       "      <td>...</td>\n",
       "      <td>...</td>\n",
       "      <td>...</td>\n",
       "      <td>...</td>\n",
       "      <td>...</td>\n",
       "      <td>...</td>\n",
       "      <td>...</td>\n",
       "      <td>...</td>\n",
       "      <td>...</td>\n",
       "      <td>...</td>\n",
       "      <td>...</td>\n",
       "      <td>...</td>\n",
       "      <td>...</td>\n",
       "      <td>...</td>\n",
       "      <td>...</td>\n",
       "      <td>...</td>\n",
       "    </tr>\n",
       "    <tr>\n",
       "      <th>725</th>\n",
       "      <td>County</td>\n",
       "      <td>2020/12/26</td>\n",
       "      <td>6.0</td>\n",
       "      <td>CA</td>\n",
       "      <td>6037.0</td>\n",
       "      <td>Los Angeles County</td>\n",
       "      <td>3475605.0</td>\n",
       "      <td>6629913.0</td>\n",
       "      <td>23016569.0</td>\n",
       "      <td>5651924.0</td>\n",
       "      <td>6243482.0</td>\n",
       "      <td>2757834.0</td>\n",
       "      <td>3369822.0</td>\n",
       "      <td>3204202.0</td>\n",
       "      <td>1099230.0</td>\n",
       "      <td>467467.0</td>\n",
       "      <td>165885.0</td>\n",
       "      <td>38075.0</td>\n",
       "      <td>18648.0</td>\n",
       "      <td>06-06037-20201226</td>\n",
       "    </tr>\n",
       "    <tr>\n",
       "      <th>726</th>\n",
       "      <td>County</td>\n",
       "      <td>2020/12/27</td>\n",
       "      <td>6.0</td>\n",
       "      <td>CA</td>\n",
       "      <td>6037.0</td>\n",
       "      <td>Los Angeles County</td>\n",
       "      <td>4077781.0</td>\n",
       "      <td>6027737.0</td>\n",
       "      <td>17581454.0</td>\n",
       "      <td>4147527.0</td>\n",
       "      <td>4562673.0</td>\n",
       "      <td>2136375.0</td>\n",
       "      <td>2517519.0</td>\n",
       "      <td>2488566.0</td>\n",
       "      <td>931398.0</td>\n",
       "      <td>424051.0</td>\n",
       "      <td>265677.0</td>\n",
       "      <td>78166.0</td>\n",
       "      <td>29502.0</td>\n",
       "      <td>06-06037-20201227</td>\n",
       "    </tr>\n",
       "    <tr>\n",
       "      <th>727</th>\n",
       "      <td>County</td>\n",
       "      <td>2020/12/28</td>\n",
       "      <td>6.0</td>\n",
       "      <td>CA</td>\n",
       "      <td>6037.0</td>\n",
       "      <td>Los Angeles County</td>\n",
       "      <td>4057897.0</td>\n",
       "      <td>6047621.0</td>\n",
       "      <td>17495514.0</td>\n",
       "      <td>3977593.0</td>\n",
       "      <td>4405684.0</td>\n",
       "      <td>2103002.0</td>\n",
       "      <td>2647709.0</td>\n",
       "      <td>2836958.0</td>\n",
       "      <td>979355.0</td>\n",
       "      <td>312317.0</td>\n",
       "      <td>149134.0</td>\n",
       "      <td>54479.0</td>\n",
       "      <td>29283.0</td>\n",
       "      <td>06-06037-20201228</td>\n",
       "    </tr>\n",
       "    <tr>\n",
       "      <th>728</th>\n",
       "      <td>County</td>\n",
       "      <td>2020/12/29</td>\n",
       "      <td>6.0</td>\n",
       "      <td>CA</td>\n",
       "      <td>6037.0</td>\n",
       "      <td>Los Angeles County</td>\n",
       "      <td>3851925.0</td>\n",
       "      <td>6253593.0</td>\n",
       "      <td>19954340.0</td>\n",
       "      <td>4703326.0</td>\n",
       "      <td>4941636.0</td>\n",
       "      <td>2401766.0</td>\n",
       "      <td>2981309.0</td>\n",
       "      <td>3187405.0</td>\n",
       "      <td>1128649.0</td>\n",
       "      <td>364745.0</td>\n",
       "      <td>162258.0</td>\n",
       "      <td>56544.0</td>\n",
       "      <td>26702.0</td>\n",
       "      <td>06-06037-20201229</td>\n",
       "    </tr>\n",
       "    <tr>\n",
       "      <th>729</th>\n",
       "      <td>County</td>\n",
       "      <td>2020/12/30</td>\n",
       "      <td>6.0</td>\n",
       "      <td>CA</td>\n",
       "      <td>6037.0</td>\n",
       "      <td>Los Angeles County</td>\n",
       "      <td>3855259.0</td>\n",
       "      <td>6250259.0</td>\n",
       "      <td>20609723.0</td>\n",
       "      <td>4865064.0</td>\n",
       "      <td>5138045.0</td>\n",
       "      <td>2505749.0</td>\n",
       "      <td>3060679.0</td>\n",
       "      <td>3224033.0</td>\n",
       "      <td>1151202.0</td>\n",
       "      <td>386913.0</td>\n",
       "      <td>185840.0</td>\n",
       "      <td>66770.0</td>\n",
       "      <td>25428.0</td>\n",
       "      <td>06-06037-20201230</td>\n",
       "    </tr>\n",
       "  </tbody>\n",
       "</table>\n",
       "<p>365 rows × 20 columns</p>\n",
       "</div>"
      ],
      "text/plain": [
       "      Level        Date  State FIPS State Postal Code  County FIPS  \\\n",
       "365  County  2020/01/01         6.0                CA       6037.0   \n",
       "366  County  2020/01/02         6.0                CA       6037.0   \n",
       "367  County  2020/01/03         6.0                CA       6037.0   \n",
       "368  County  2020/01/04         6.0                CA       6037.0   \n",
       "369  County  2020/01/05         6.0                CA       6037.0   \n",
       "..      ...         ...         ...               ...          ...   \n",
       "725  County  2020/12/26         6.0                CA       6037.0   \n",
       "726  County  2020/12/27         6.0                CA       6037.0   \n",
       "727  County  2020/12/28         6.0                CA       6037.0   \n",
       "728  County  2020/12/29         6.0                CA       6037.0   \n",
       "729  County  2020/12/30         6.0                CA       6037.0   \n",
       "\n",
       "            County Name  Population Staying at Home  \\\n",
       "365  Los Angeles County                   2332593.0   \n",
       "366  Los Angeles County                   1881876.0   \n",
       "367  Los Angeles County                   1857894.0   \n",
       "368  Los Angeles County                   2032359.0   \n",
       "369  Los Angeles County                   2213909.0   \n",
       "..                  ...                         ...   \n",
       "725  Los Angeles County                   3475605.0   \n",
       "726  Los Angeles County                   4077781.0   \n",
       "727  Los Angeles County                   4057897.0   \n",
       "728  Los Angeles County                   3851925.0   \n",
       "729  Los Angeles County                   3855259.0   \n",
       "\n",
       "     Population Not Staying at Home  Number of Trips  Number of Trips <1  \\\n",
       "365                       7772925.0       28408015.0           8012799.0   \n",
       "366                       8223642.0       35574513.0          10073670.0   \n",
       "367                       8247624.0       36690443.0          10271645.0   \n",
       "368                       8073159.0       35376724.0           9922738.0   \n",
       "369                       7891609.0       31971612.0           8951498.0   \n",
       "..                              ...              ...                 ...   \n",
       "725                       6629913.0       23016569.0           5651924.0   \n",
       "726                       6027737.0       17581454.0           4147527.0   \n",
       "727                       6047621.0       17495514.0           3977593.0   \n",
       "728                       6253593.0       19954340.0           4703326.0   \n",
       "729                       6250259.0       20609723.0           4865064.0   \n",
       "\n",
       "     Number of Trips 1-3  Number of Trips 3-5  Number of Trips 5-10  \\\n",
       "365            7171381.0            3303835.0             4100719.0   \n",
       "366            8817641.0            4265798.0             5293548.0   \n",
       "367            9186799.0            4416158.0             5527622.0   \n",
       "368            9090019.0            4319713.0             5236876.0   \n",
       "369            8437927.0            3907506.0             4708320.0   \n",
       "..                   ...                  ...                   ...   \n",
       "725            6243482.0            2757834.0             3369822.0   \n",
       "726            4562673.0            2136375.0             2517519.0   \n",
       "727            4405684.0            2103002.0             2647709.0   \n",
       "728            4941636.0            2401766.0             2981309.0   \n",
       "729            5138045.0            2505749.0             3060679.0   \n",
       "\n",
       "     Number of Trips 10-25  Number of Trips 25-50  Number of Trips 50-100  \\\n",
       "365              3878261.0              1256125.0                446348.0   \n",
       "366              5070346.0              1476935.0                366553.0   \n",
       "367              5208659.0              1489918.0                374902.0   \n",
       "368              4743737.0              1398184.0                435070.0   \n",
       "369              4111100.0              1220541.0                386756.0   \n",
       "..                     ...                    ...                     ...   \n",
       "725              3204202.0              1099230.0                467467.0   \n",
       "726              2488566.0               931398.0                424051.0   \n",
       "727              2836958.0               979355.0                312317.0   \n",
       "728              3187405.0              1128649.0                364745.0   \n",
       "729              3224033.0              1151202.0                386913.0   \n",
       "\n",
       "     Number of Trips 100-250  Number of Trips 250-500  Number of Trips >=500  \\\n",
       "365                 188247.0                  34288.0                16012.0   \n",
       "366                 164673.0                  32817.0                12532.0   \n",
       "367                 166074.0                  34326.0                14340.0   \n",
       "368                 183741.0                  31454.0                15192.0   \n",
       "369                 193807.0                  37640.0                16517.0   \n",
       "..                       ...                      ...                    ...   \n",
       "725                 165885.0                  38075.0                18648.0   \n",
       "726                 265677.0                  78166.0                29502.0   \n",
       "727                 149134.0                  54479.0                29283.0   \n",
       "728                 162258.0                  56544.0                26702.0   \n",
       "729                 185840.0                  66770.0                25428.0   \n",
       "\n",
       "                Row ID  \n",
       "365  06-06037-20200101  \n",
       "366  06-06037-20200102  \n",
       "367  06-06037-20200103  \n",
       "368  06-06037-20200104  \n",
       "369  06-06037-20200105  \n",
       "..                 ...  \n",
       "725  06-06037-20201226  \n",
       "726  06-06037-20201227  \n",
       "727  06-06037-20201228  \n",
       "728  06-06037-20201229  \n",
       "729  06-06037-20201230  \n",
       "\n",
       "[365 rows x 20 columns]"
      ]
     },
     "execution_count": 37,
     "metadata": {},
     "output_type": "execute_result"
    }
   ],
   "source": [
    "traffic.iloc[365:365+365]"
   ]
  },
  {
   "cell_type": "code",
   "execution_count": 33,
   "id": "b55a8586-49ee-4d58-a1b4-7bbd0ab6d892",
   "metadata": {},
   "outputs": [],
   "source": [
    "weekly_traffic = []\n",
    "for i in range(365, 365+365, 7):\n",
    "    weekly_traffic.append(traffic.iloc[i:i+6]['Number of Trips'].mean())"
   ]
  },
  {
   "cell_type": "code",
   "execution_count": 17,
   "id": "027a6d81-491a-4427-823c-0243c3c0f8ef",
   "metadata": {},
   "outputs": [
    {
     "data": {
      "text/plain": [
       "50807039.666666664"
      ]
     },
     "execution_count": 17,
     "metadata": {},
     "output_type": "execute_result"
    }
   ],
   "source": [
    "max(weekly_traffic)"
   ]
  },
  {
   "cell_type": "markdown",
   "id": "a2c5f97d-ada3-47ac-9331-59ef47c424f0",
   "metadata": {},
   "source": [
    "## Visualize the Data"
   ]
  },
  {
   "cell_type": "code",
   "execution_count": 34,
   "id": "67f3f2e3-655e-4aa5-9aa9-e03ef5aa3371",
   "metadata": {},
   "outputs": [
    {
     "data": {
      "text/plain": [
       "[<matplotlib.lines.Line2D at 0x1562137f0>]"
      ]
     },
     "execution_count": 34,
     "metadata": {},
     "output_type": "execute_result"
    },
    {
     "data": {
      "image/png": "[encoded data removed]",
      "text/plain": [
       "<Figure size 432x288 with 1 Axes>"
      ]
     },
     "metadata": {
      "needs_background": "light"
     },
     "output_type": "display_data"
    }
   ],
   "source": [
    "plt.plot(aqi_diff)\n",
    "plt.plot(weekly_traffic/(max(weekly_traffic)-min(weekly_traffic))*100)"
   ]
  },
  {
   "cell_type": "code",
   "execution_count": 35,
   "id": "db14f439-8aad-41bd-82ed-1264db75b0f4",
   "metadata": {},
   "outputs": [
    {
     "data": {
      "text/plain": [
       "[<matplotlib.lines.Line2D at 0x15631f070>]"
      ]
     },
     "execution_count": 35,
     "metadata": {},
     "output_type": "execute_result"
    },
    {
     "data": {
      "image/png": "[encoded data removed]",
      "text/plain": [
       "<Figure size 432x288 with 1 Axes>"
      ]
     },
     "metadata": {
      "needs_background": "light"
     },
     "output_type": "display_data"
    }
   ],
   "source": [
    "plt.plot(traffic['Number of Trips'].iloc[365:365*2])"
   ]
  },
  {
   "cell_type": "code",
   "execution_count": 40,
   "id": "a1bd51d0-bbff-4a7b-b2e8-d5e935fba506",
   "metadata": {},
   "outputs": [
    {
     "data": {
      "text/plain": [
       "Text(0.5, 1.0, 'Average weekly number of trips for Los Angeles County, 2020')"
      ]
     },
     "execution_count": 40,
     "metadata": {},
     "output_type": "execute_result"
    },
    {
     "data": {
      "image/png": "[encoded data removed]",
      "text/plain": [
       "<Figure size 432x288 with 1 Axes>"
      ]
     },
     "metadata": {
      "needs_background": "light"
     },
     "output_type": "display_data"
    }
   ],
   "source": [
    "plt.plot(weekly_traffic)\n",
    "plt.ylabel('Number of Trips')\n",
    "plt.xlabel('Week')\n",
    "plt.title('Average weekly number of trips for Los Angeles County, 2020')"
   ]
  },
  {
   "cell_type": "code",
   "execution_count": 42,
   "id": "e5047da2-9658-4daa-b3e2-d3129eb8e0b1",
   "metadata": {},
   "outputs": [],
   "source": [
    "population = []\n",
    "for i in range(365, 365+365, 7):\n",
    "    population.append(traffic.iloc[i:i+6]['Population Staying at Home'].mean())"
   ]
  },
  {
   "cell_type": "code",
   "execution_count": 46,
   "id": "6ddb129d-becb-4623-bc72-65dc232b62d0",
   "metadata": {},
   "outputs": [
    {
     "data": {
      "text/plain": [
       "[<matplotlib.lines.Line2D at 0x1568af0a0>]"
      ]
     },
     "execution_count": 46,
     "metadata": {},
     "output_type": "execute_result"
    },
    {
     "data": {
      "image/png": "[encoded data removed]",
      "text/plain": [
       "<Figure size 432x288 with 1 Axes>"
      ]
     },
     "metadata": {
      "needs_background": "light"
     },
     "output_type": "display_data"
    }
   ],
   "source": [
    "plt.plot(population)\n",
    "plt.plot(weekly_traffic)"
   ]
  },
  {
   "cell_type": "code",
   "execution_count": null,
   "id": "9bd06773-af48-4a7e-add2-2c95747aa010",
   "metadata": {},
   "outputs": [],
   "source": []
  }
 ],
 "metadata": {
  "kernelspec": {
   "display_name": "Python 3",
   "language": "python",
   "name": "python3"
  },
  "language_info": {
   "codemirror_mode": {
    "name": "ipython",
    "version": 3
   },
   "file_extension": ".py",
   "mimetype": "text/x-python",
   "name": "python",
   "nbconvert_exporter": "python",
   "pygments_lexer": "ipython3",
   "version": "3.8.8"
  }
 },
 "nbformat": 4,
 "nbformat_minor": 5
}
